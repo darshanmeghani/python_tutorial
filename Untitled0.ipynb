{
  "nbformat": 4,
  "nbformat_minor": 0,
  "metadata": {
    "colab": {
      "provenance": [],
      "authorship_tag": "ABX9TyPJuMd3dc0+8n8ZTaUB7kc4",
      "include_colab_link": true
    },
    "kernelspec": {
      "name": "python3",
      "display_name": "Python 3"
    },
    "language_info": {
      "name": "python"
    }
  },
  "cells": [
    {
      "cell_type": "markdown",
      "metadata": {
        "id": "view-in-github",
        "colab_type": "text"
      },
      "source": [
        "<a href=\"https://colab.research.google.com/github/darshanmeghani/python_tutorial/blob/main/Untitled0.ipynb\" target=\"_parent\"><img src=\"https://colab.research.google.com/assets/colab-badge.svg\" alt=\"Open In Colab\"/></a>"
      ]
    },
    {
      "cell_type": "code",
      "execution_count": 1,
      "metadata": {
        "colab": {
          "base_uri": "https://localhost:8080/"
        },
        "id": "7bhpcX9a89AL",
        "outputId": "c5e1fb6a-71d4-4f66-d2d8-e4765ffad6da"
      },
      "outputs": [
        {
          "output_type": "stream",
          "name": "stdout",
          "text": [
            "Hello World of AI !\n"
          ]
        }
      ],
      "source": [
        "print('Hello World of AI !')"
      ]
    },
    {
      "cell_type": "code",
      "source": [],
      "metadata": {
        "id": "FqyT24K9-4tj"
      },
      "execution_count": null,
      "outputs": []
    }
  ]
}